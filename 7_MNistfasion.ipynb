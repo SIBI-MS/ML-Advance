{
 "cells": [
  {
   "cell_type": "code",
   "execution_count": 2,
   "metadata": {},
   "outputs": [
    {
     "name": "stdout",
     "output_type": "stream",
     "text": [
      "Bias: 0.014841104283649131\n",
      "Variance: 7.12820762655051e-05\n"
     ]
    }
   ],
   "source": [
    "#7. Evaluate the trained model on the Fashion MNIST dataset and analyze bias, variance, and the trade-off.\n",
    "\n",
    "import numpy as np\n",
    "import tensorflow as tf\n",
    "from sklearn.metrics import accuracy_score, mean_squared_error\n",
    "from sklearn.utils import resample\n",
    "\n",
    "# Load Fashion MNIST dataset\n",
    "fashion_mnist = tf.keras.datasets.fashion_mnist\n",
    "(X_train, y_train), (X_test, y_test) = fashion_mnist.load_data()\n",
    "\n",
    "# Normalize the pixel values to be between 0 and 1\n",
    "X_train, X_test = X_train / 255.0, X_test / 255.0\n",
    "\n",
    "# Flatten the images to make them compatible with logistic regression\n",
    "X_train = X_train.reshape(X_train.shape[0], -1)\n",
    "X_test = X_test.reshape(X_test.shape[0], -1)\n",
    "\n",
    "# Convert labels to binary (for simplicity, let's classify between two classes: 0 (T-shirt/top) and 1 (Trouser))\n",
    "binary_indices_train = np.where((y_train == 0) | (y_train == 1))[0]\n",
    "binary_indices_test = np.where((y_test == 0) | (y_test == 1))[0]\n",
    "X_train_binary, y_train_binary = X_train[binary_indices_train], y_train[binary_indices_train]\n",
    "X_test_binary, y_test_binary = X_test[binary_indices_test], y_test[binary_indices_test]\n",
    "\n",
    "# Convert labels to 0 and 1\n",
    "y_train_binary = np.where(y_train_binary == 0, 0, 1)\n",
    "y_test_binary = np.where(y_test_binary == 0, 0, 1)\n",
    "\n",
    "# Define sigmoid function\n",
    "def sigmoid(z):\n",
    "    return 1 / (1 + np.exp(-z))\n",
    "\n",
    "# Function to train the model and return predictions\n",
    "def train_and_predict(X_train, y_train, X_test):\n",
    "    m = np.zeros(X_train.shape[1])\n",
    "    c = 0\n",
    "    LR = 0.0001\n",
    "    epochs = 50\n",
    "    for epoch in range(1, epochs + 1):\n",
    "        for i in range(len(X_train)):\n",
    "            gr_wrt_m = X_train[i] * (y_train[i] - sigmoid(np.dot(m.T, X_train[i]) + c))\n",
    "            gr_wrt_c = y_train[i] - sigmoid(np.dot(m.T, X_train[i]) + c)\n",
    "            m = m + LR * gr_wrt_m\n",
    "            c = c + LR * gr_wrt_c\n",
    "    predictions = []\n",
    "    for i in range(len(X_test)):\n",
    "        z = np.dot(m, X_test[i]) + c\n",
    "        y_pred = sigmoid(z)\n",
    "        predictions.append(y_pred)\n",
    "    return np.array(predictions)\n",
    "\n",
    "# Train multiple models and collect their predictions\n",
    "n_models = 10\n",
    "all_predictions = []\n",
    "for _ in range(n_models):\n",
    "    X_resampled, y_resampled = resample(X_train_binary, y_train_binary)\n",
    "    predictions = train_and_predict(X_resampled, y_resampled, X_test_binary)\n",
    "    all_predictions.append(predictions)\n",
    "all_predictions = np.array(all_predictions)\n",
    "\n",
    "# Calculate the average prediction\n",
    "average_prediction = np.mean(all_predictions, axis=0)\n",
    "\n",
    "# Calculate bias\n",
    "bias = mean_squared_error(y_test_binary, average_prediction)\n",
    "\n",
    "# Calculate variance\n",
    "variance = np.mean(np.var(all_predictions, axis=0))\n",
    "\n",
    "# Output bias and variance\n",
    "print(\"Bias:\", bias)\n",
    "print(\"Variance:\", variance)\n"
   ]
  }
 ],
 "metadata": {
  "kernelspec": {
   "display_name": "Python 3",
   "language": "python",
   "name": "python3"
  },
  "language_info": {
   "codemirror_mode": {
    "name": "ipython",
    "version": 3
   },
   "file_extension": ".py",
   "mimetype": "text/x-python",
   "name": "python",
   "nbconvert_exporter": "python",
   "pygments_lexer": "ipython3",
   "version": "3.10.12"
  },
  "orig_nbformat": 4
 },
 "nbformat": 4,
 "nbformat_minor": 2
}
