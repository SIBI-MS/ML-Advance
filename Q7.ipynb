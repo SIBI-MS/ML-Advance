{
 "cells": [
  {
   "cell_type": "code",
   "execution_count": 4,
   "id": "501a792e-bfb3-4eb6-b48c-8d8a50a3d2c1",
   "metadata": {},
   "outputs": [
    {
     "name": "stdout",
     "output_type": "stream",
     "text": [
      "Downloading data from https://storage.googleapis.com/tensorflow/tf-keras-datasets/train-labels-idx1-ubyte.gz\n",
      "29515/29515 [==============================] - 0s 3us/step\n",
      "Downloading data from https://storage.googleapis.com/tensorflow/tf-keras-datasets/train-images-idx3-ubyte.gz\n",
      "26421880/26421880 [==============================] - 27s 1us/step\n",
      "Downloading data from https://storage.googleapis.com/tensorflow/tf-keras-datasets/t10k-labels-idx1-ubyte.gz\n",
      "5148/5148 [==============================] - 0s 0us/step\n",
      "Downloading data from https://storage.googleapis.com/tensorflow/tf-keras-datasets/t10k-images-idx3-ubyte.gz\n",
      "4422102/4422102 [==============================] - 4s 1us/step\n",
      "Bias: 0.014780639240608398\n",
      "Variance: 6.361645876221806e-05\n"
     ]
    }
   ],
   "source": [
    "import numpy as np\n",
    "import tensorflow as tf\n",
    "from sklearn.metrics import accuracy_score, mean_squared_error\n",
    "from sklearn.utils import resample\n",
    "# Load Fashion MNIST dataset\n",
    "fashion_mnist = tf.keras.datasets.fashion_mnist\n",
    "(X_train, y_train), (X_test, y_test) = fashion_mnist.load_data()\n",
    "# Normalize the pixel values to be between 0 and 1\n",
    "X_train, X_test = X_train / 255.0, X_test / 255.0\n",
    "# Flatten the images to make them compatible with logistic regression\n",
    "X_train = X_train.reshape(X_train.shape[0], -1)\n",
    "X_test = X_test.reshape(X_test.shape[0], -1)\n",
    "# Convert labels to binary (for simplicity, let's classify between two classes: 0 (T-shirt/top) and 1 (Trouser))\n",
    "binary_indices_train = np.where((y_train == 0) | (y_train == 1))[0]\n",
    "binary_indices_test = np.where((y_test == 0) | (y_test == 1))[0]\n",
    "X_train_binary, y_train_binary = X_train[binary_indices_train], y_train[binary_indices_train\n",
    "    ]\n",
    "X_test_binary, y_test_binary = X_test[binary_indices_test], y_test[binary_indices_test]\n",
    "# Convert labels to 0 and 1\n",
    "y_train_binary = np.where(y_train_binary == 0, 0, 1)\n",
    "y_test_binary = np.where(y_test_binary == 0, 0, 1)\n",
    "# Define sigmoid function\n",
    "def sigmoid(z):\n",
    "    return 1 / (1 + np.exp(-z))\n",
    "# Function to train the model and return predictions\n",
    "def train_and_predict(X_train, y_train, X_test):\n",
    "    m = np.zeros(X_train.shape[1])\n",
    "    c=0\n",
    "    LR = 0.0001\n",
    "    epochs = 50\n",
    "    for epoch in range(1, epochs + 1):\n",
    "        for i in range(len(X_train)):\n",
    "            gr_wrt_m = X_train[i] * (y_train[i] - sigmoid(np.dot(m.T, X_train[i]) + c))\n",
    "            gr_wrt_c = y_train[i] - sigmoid(np.dot(m.T, X_train[i]) + c)\n",
    "            m = m + LR * gr_wrt_m\n",
    "            c = c + LR * gr_wrt_c\n",
    "    predictions = []\n",
    "    for i in range(len(X_test)):\n",
    "        z = np.dot(m, X_test[i]) + c\n",
    "        y_pred = sigmoid(z)\n",
    "        predictions.append(y_pred)\n",
    "    return np.array(predictions)\n",
    "# Train multiple models and collect their predictions\n",
    "n_models = 10\n",
    "all_predictions = []\n",
    "for _ in range(n_models):\n",
    "    X_resampled, y_resampled = resample(X_train_binary, y_train_binary)\n",
    "    predictions = train_and_predict(X_resampled, y_resampled, X_test_binary)\n",
    "    all_predictions.append(predictions)\n",
    "all_predictions = np.array(all_predictions)\n",
    "# Calculate the average prediction\n",
    "average_prediction = np.mean(all_predictions, axis=0)\n",
    "# Calculate bias\n",
    "bias = mean_squared_error(y_test_binary, average_prediction)\n",
    "# Calculate variance\n",
    "variance = np.mean(np.var(all_predictions, axis=0))\n",
    "# Output bias and variance\n",
    "print(\"Bias:\", bias)\n",
    "print(\"Variance:\", variance)"
   ]
  },
  {
   "cell_type": "code",
   "execution_count": null,
   "id": "dabd4008-db33-4176-9449-b198cbda5595",
   "metadata": {},
   "outputs": [],
   "source": []
  }
 ],
 "metadata": {
  "kernelspec": {
   "display_name": "Python 3 (ipykernel)",
   "language": "python",
   "name": "python3"
  },
  "language_info": {
   "codemirror_mode": {
    "name": "ipython",
    "version": 3
   },
   "file_extension": ".py",
   "mimetype": "text/x-python",
   "name": "python",
   "nbconvert_exporter": "python",
   "pygments_lexer": "ipython3",
   "version": "3.11.5"
  }
 },
 "nbformat": 4,
 "nbformat_minor": 5
}
