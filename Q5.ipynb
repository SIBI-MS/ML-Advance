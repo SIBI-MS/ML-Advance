{
 "cells": [
  {
   "cell_type": "code",
   "execution_count": 1,
   "id": "2c17c7a7-4f8c-4e67-937d-82dd1e5f3d98",
   "metadata": {},
   "outputs": [
    {
     "name": "stdout",
     "output_type": "stream",
     "text": [
      "Model: \"sequential\"\n",
      "_________________________________________________________________\n",
      " Layer (type)                Output Shape              Param #   \n",
      "=================================================================\n",
      " conv1d (Conv1D)             (None, 98, 64)            256       \n",
      "                                                                 \n",
      " max_pooling1d (MaxPooling1  (None, 49, 64)            0         \n",
      " D)                                                              \n",
      "                                                                 \n",
      " dropout (Dropout)           (None, 49, 64)            0         \n",
      "                                                                 \n",
      " conv1d_1 (Conv1D)           (None, 47, 128)           24704     \n",
      "                                                                 \n",
      " max_pooling1d_1 (MaxPoolin  (None, 23, 128)           0         \n",
      " g1D)                                                            \n",
      "                                                                 \n",
      " flatten (Flatten)           (None, 2944)              0         \n",
      "                                                                 \n",
      " dense (Dense)               (None, 128)               376960    \n",
      "                                                                 \n",
      " dropout_1 (Dropout)         (None, 128)               0         \n",
      "                                                                 \n",
      " dense_1 (Dense)             (None, 10)                1290      \n",
      "                                                                 \n",
      "=================================================================\n",
      "Total params: 403210 (1.54 MB)\n",
      "Trainable params: 403210 (1.54 MB)\n",
      "Non-trainable params: 0 (0.00 Byte)\n",
      "_________________________________________________________________\n",
      "Epoch 1/5\n",
      "25/25 [==============================] - 1s 25ms/step - loss: 2.3297 - accuracy: 0.1013 - val_loss: 2.3037 - val_accuracy: 0.0950\n",
      "Epoch 2/5\n",
      "25/25 [==============================] - 0s 18ms/step - loss: 2.3045 - accuracy: 0.1125 - val_loss: 2.3017 - val_accuracy: 0.1200\n",
      "Epoch 3/5\n",
      "25/25 [==============================] - 0s 14ms/step - loss: 2.2947 - accuracy: 0.1063 - val_loss: 2.3020 - val_accuracy: 0.0900\n",
      "Epoch 4/5\n",
      "25/25 [==============================] - 1s 27ms/step - loss: 2.2963 - accuracy: 0.1075 - val_loss: 2.3016 - val_accuracy: 0.1050\n",
      "Epoch 5/5\n",
      "25/25 [==============================] - 1s 32ms/step - loss: 2.2980 - accuracy: 0.1138 - val_loss: 2.3013 - val_accuracy: 0.1700\n"
     ]
    },
    {
     "data": {
      "text/plain": [
       "<keras.src.callbacks.History at 0x3078fe390>"
      ]
     },
     "execution_count": 1,
     "metadata": {},
     "output_type": "execute_result"
    }
   ],
   "source": [
    "import numpy as np\n",
    "from tensorflow.keras.models import Sequential\n",
    "from tensorflow.keras.layers import Dense, Flatten, Conv1D, MaxPooling1D, Dropout\n",
    "\n",
    "num_seq = 1000\n",
    "seq_len = 100\n",
    "num_fea = 1\n",
    "num_class = 10\n",
    "\n",
    "x = np.random.rand(num_seq, seq_len, num_fea)\n",
    "y = np.random.randint(0, num_class, num_seq)\n",
    "\n",
    "model = Sequential([\n",
    "    Conv1D(filters=64, kernel_size=3, activation='relu',input_shape=(seq_len,num_fea)),\n",
    "    MaxPooling1D(pool_size=2),\n",
    "    Dropout(0.5),\n",
    "    Conv1D(filters=128, kernel_size=3, activation='relu'),\n",
    "    MaxPooling1D(pool_size=2),\n",
    "    Flatten(),\n",
    "    Dense(128, activation='relu'),\n",
    "    Dropout(0.5),\n",
    "    Dense(num_class, activation='softmax')\n",
    "])\n",
    "model.compile(optimizer='adam',\n",
    "              loss='sparse_categorical_crossentropy',\n",
    "              metrics=['accuracy'])\n",
    "model.summary()\n",
    "model.fit(x,y,epochs=5,batch_size=32,validation_split=0.2)"
   ]
  },
  {
   "cell_type": "code",
   "execution_count": null,
   "id": "a835e460-79a8-4c7e-b2b5-28632e293f05",
   "metadata": {},
   "outputs": [],
   "source": []
  }
 ],
 "metadata": {
  "kernelspec": {
   "display_name": "Python 3 (ipykernel)",
   "language": "python",
   "name": "python3"
  },
  "language_info": {
   "codemirror_mode": {
    "name": "ipython",
    "version": 3
   },
   "file_extension": ".py",
   "mimetype": "text/x-python",
   "name": "python",
   "nbconvert_exporter": "python",
   "pygments_lexer": "ipython3",
   "version": "3.11.5"
  }
 },
 "nbformat": 4,
 "nbformat_minor": 5
}
