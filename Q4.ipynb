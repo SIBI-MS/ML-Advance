{
 "cells": [
  {
   "cell_type": "code",
   "execution_count": 6,
   "id": "5a0502be-b05e-4641-b1a5-321c946e67b9",
   "metadata": {},
   "outputs": [
    {
     "name": "stdout",
     "output_type": "stream",
     "text": [
      "0.9406\n"
     ]
    }
   ],
   "source": [
    "import idx2numpy\n",
    "from sklearn.preprocessing import StandardScaler\n",
    "from sklearn.svm import SVC\n",
    "from sklearn.decomposition import PCA\n",
    "from sklearn.metrics import accuracy_score\n",
    "\n",
    "def un_pack(filename):\n",
    "    return idx2numpy.convert_from_file(filename)\n",
    "\n",
    "x_train = un_pack('train-images-idx3-ubyte/train-images-idx3-ubyte')\n",
    "y_train = un_pack('train-labels-idx1-ubyte/train-labels-idx1-ubyte')\n",
    "x_test = un_pack('t10k-images-idx3-ubyte/t10k-images-idx3-ubyte')\n",
    "y_test = un_pack('t10k-labels-idx1-ubyte/t10k-labels-idx1-ubyte')\n",
    "\n",
    "x_train = x_train.reshape(x_train.shape[0], -1)\n",
    "x_test = x_test.reshape(x_test.shape[0], -1)\n",
    "\n",
    "scaler = StandardScaler()\n",
    "x_train = scaler.fit_transform(x_train)\n",
    "x_test = scaler.transform(x_test)\n",
    "\n",
    "pca = PCA(n_components=0.95)\n",
    "x_train_pca = pca.fit_transform(x_train)\n",
    "x_test_pca = pca.transform(x_test)\n",
    "\n",
    "svc = SVC(kernel='linear', random_state=42)\n",
    "svc.fit(x_train_pca, y_train)\n",
    "y_pred = svc.predict(x_test_pca)\n",
    "accuracy = accuracy_score(y_pred, y_test)\n",
    "print(accuracy)"
   ]
  },
  {
   "cell_type": "code",
   "execution_count": null,
   "id": "22223017-b086-4635-8d23-b83198fe5535",
   "metadata": {},
   "outputs": [],
   "source": []
  }
 ],
 "metadata": {
  "kernelspec": {
   "display_name": "Python 3 (ipykernel)",
   "language": "python",
   "name": "python3"
  },
  "language_info": {
   "codemirror_mode": {
    "name": "ipython",
    "version": 3
   },
   "file_extension": ".py",
   "mimetype": "text/x-python",
   "name": "python",
   "nbconvert_exporter": "python",
   "pygments_lexer": "ipython3",
   "version": "3.11.5"
  }
 },
 "nbformat": 4,
 "nbformat_minor": 5
}
